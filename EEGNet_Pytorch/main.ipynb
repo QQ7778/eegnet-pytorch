{
 "cells": [
  {
   "cell_type": "code",
   "execution_count": 35,
   "metadata": {},
   "outputs": [],
   "source": [
    "import os\n",
    "import numpy as np\n",
    "import torch\n",
    "import torch.nn as nn\n",
    "from EEGNet import EEGNet\n",
    "from tqdm import tqdm\n",
    "import LoadData as loaddata\n",
    "from sklearn.model_selection import train_test_split"
   ]
  },
  {
   "cell_type": "code",
   "execution_count": 36,
   "metadata": {},
   "outputs": [],
   "source": [
    "###============================ Sets the seed for random numbers ============================###\n",
    "torch.manual_seed(1234)\n",
    "np.random.seed(1234)"
   ]
  },
  {
   "cell_type": "code",
   "execution_count": 37,
   "metadata": {},
   "outputs": [],
   "source": [
    "###============================ Use the GPU to train ============================###\n",
    "use_cuda = torch.cuda.is_available()\n",
    "device = torch.device('cuda:0' if use_cuda else 'cpu')"
   ]
  },
  {
   "cell_type": "code",
   "execution_count": 38,
   "metadata": {},
   "outputs": [],
   "source": [
    "###============================ Setup for saving the model ============================###\n",
    "current_working_dir = os.getcwd()\n",
    "filename = current_working_dir + '/best_model.pth'"
   ]
  },
  {
   "cell_type": "code",
   "execution_count": 39,
   "metadata": {},
   "outputs": [
    {
     "name": "stdout",
     "output_type": "stream",
     "text": [
      "Extracting EDF parameters from /home/pytorch/LiangXiaohan/MI_Dataverse/BCICIV_2a_gdf/A03T.gdf...\n",
      "GDF file detected\n",
      "Setting channel info structure...\n",
      "Could not determine channel type of the following channels, they will be set as EEG:\n",
      "EEG-Fz, EEG, EEG, EEG, EEG, EEG, EEG, EEG-C3, EEG, EEG-Cz, EEG, EEG-C4, EEG, EEG, EEG, EEG, EEG, EEG, EEG, EEG-Pz, EEG, EEG, EOG-left, EOG-central, EOG-right\n",
      "Creating raw.info structure...\n",
      "Used Annotations descriptions: ['1023', '1072', '276', '277', '32766', '768', '769', '770', '771', '772']\n",
      "Not setting metadata\n",
      "288 matching events found\n",
      "No baseline correction applied\n",
      "Loading data for 288 events and 251 original time points ...\n"
     ]
    },
    {
     "name": "stderr",
     "output_type": "stream",
     "text": [
      "/home/pytorch/anaconda3/envs/pytorch_env/lib/python3.7/site-packages/mne/io/edf/edf.py:1155: DeprecationWarning: The binary mode of fromstring is deprecated, as it behaves surprisingly on unicode inputs. Use frombuffer instead\n",
      "  etmode = np.fromstring(etmode, UINT8).tolist()[0]\n",
      "/home/pytorch/anaconda3/envs/pytorch_env/lib/python3.7/contextlib.py:119: RuntimeWarning: Channel names are not unique, found duplicates for: {'EEG'}. Applying running numbers for duplicates.\n",
      "  next(self.gen)\n"
     ]
    },
    {
     "name": "stdout",
     "output_type": "stream",
     "text": [
      "0 bad epochs dropped\n"
     ]
    }
   ],
   "source": [
    "###============================ Load data ============================###\n",
    "data_path = \"/home/pytorch/LiangXiaohan/MI_Dataverse/BCICIV_2a_gdf\"\n",
    "persion_data = 'A03T.gdf'\n",
    "\n",
    "'''for BCIC Dataset'''\n",
    "bcic_data = loaddata.LoadBCIC(persion_data, data_path)\n",
    "eeg_data = bcic_data.get_epochs(tmin=-0., tmax=1, baseline=None, downsampled=None) # {'x_data':, 'y_labels':, 'fs':}\n",
    "\n",
    "X = eeg_data.get('x_data')\n",
    "Y = eeg_data.get('y_labels')"
   ]
  },
  {
   "cell_type": "code",
   "execution_count": 40,
   "metadata": {},
   "outputs": [],
   "source": [
    "###============================ Initialization parameters ============================###\n",
    "chans           = X.shape[1]\n",
    "samples         = X.shape[2]\n",
    "kernelLength    = 64\n",
    "kernelLength2   = 16\n",
    "F1              = 8\n",
    "D               = 2\n",
    "F2              = F1 * D\n",
    "dropoutRate     = 0.5\n",
    "n_classes       = 4\n",
    "training_epochs = 5\n",
    "batch_size      = 32\n",
    "kfolds          = 10\n",
    "test_size       = 0.2\n",
    "best_acc        = 0"
   ]
  },
  {
   "cell_type": "code",
   "execution_count": 41,
   "metadata": {},
   "outputs": [],
   "source": [
    "###============================ Split data & Cross validate ============================###\n",
    "X_train, X_test, Y_train, Y_test = train_test_split(X, Y, test_size=test_size, random_state=0, shuffle=True)\n",
    "\n",
    "train_indices, eval_indices = loaddata.cross_validate_sequential_split(X_train, Y_train, kfold=kfolds)"
   ]
  },
  {
   "cell_type": "code",
   "execution_count": 42,
   "metadata": {},
   "outputs": [
    {
     "name": "stdout",
     "output_type": "stream",
     "text": [
      "EEGNet(\n",
      "  (EEGNetLayer): Sequential(\n",
      "    (0): Sequential(\n",
      "      (0): Conv2d(1, 8, kernel_size=(1, 64), stride=(1, 1), padding=(0, 32), bias=False)\n",
      "      (1): BatchNorm2d(8, eps=1e-05, momentum=0.1, affine=True, track_running_stats=True)\n",
      "    )\n",
      "    (1): Sequential(\n",
      "      (0): Conv2d(8, 16, kernel_size=(22, 1), stride=(1, 1), groups=8, bias=False)\n",
      "      (1): BatchNorm2d(16, eps=1e-05, momentum=0.1, affine=True, track_running_stats=True)\n",
      "      (2): ELU(alpha=1.0)\n",
      "      (3): AvgPool2d(kernel_size=(1, 4), stride=4, padding=0)\n",
      "      (4): Dropout(p=0.5, inplace=False)\n",
      "    )\n",
      "    (2): Sequential(\n",
      "      (0): Conv2d(16, 16, kernel_size=(1, 16), stride=(1, 1), padding=(0, 8), groups=16, bias=False)\n",
      "      (1): Conv2d(16, 16, kernel_size=(1, 1), stride=(1, 1), bias=False)\n",
      "      (2): BatchNorm2d(16, eps=1e-05, momentum=0.1, affine=True, track_running_stats=True)\n",
      "      (3): ELU(alpha=1.0)\n",
      "      (4): AvgPool2d(kernel_size=(1, 8), stride=8, padding=0)\n",
      "      (5): Dropout(p=0.5, inplace=False)\n",
      "    )\n",
      "  )\n",
      "  (ClassifierBlock): Sequential(\n",
      "    (0): Linear(in_features=128, out_features=4, bias=False)\n",
      "    (1): Softmax(dim=1)\n",
      "  )\n",
      ")\n"
     ]
    }
   ],
   "source": [
    "###============================ Initialization model ============================###\n",
    "eegnet = EEGNet(n_classes, chans, samples, dropoutRate, kernelLength, kernelLength2, F1, D, F2)\n",
    "eegnet = eegnet.to(device)\n",
    "print(eegnet)\n",
    "optimizer = torch.optim.Adam(eegnet.parameters(), lr=0.001, betas=(0.9, 0.999))\n",
    "criterion = nn.CrossEntropyLoss().to(device)"
   ]
  },
  {
   "cell_type": "code",
   "execution_count": 43,
   "metadata": {},
   "outputs": [
    {
     "name": "stderr",
     "output_type": "stream",
     "text": [
      "100%|██████████| 7/7 [00:00<00:00, 30.13it/s]\n",
      "100%|██████████| 7/7 [00:00<00:00, 32.81it/s]\n",
      "100%|██████████| 7/7 [00:00<00:00, 30.57it/s]\n",
      "100%|██████████| 7/7 [00:00<00:00, 27.11it/s]\n",
      "100%|██████████| 7/7 [00:00<00:00, 31.41it/s]\n",
      "100%|██████████| 7/7 [00:00<00:00, 32.57it/s]\n",
      "100%|██████████| 7/7 [00:00<00:00, 33.66it/s]\n",
      "100%|██████████| 7/7 [00:00<00:00, 32.32it/s]\n",
      "100%|██████████| 7/7 [00:00<00:00, 31.76it/s]\n",
      "100%|██████████| 7/7 [00:00<00:00, 31.44it/s]\n"
     ]
    },
    {
     "name": "stdout",
     "output_type": "stream",
     "text": [
      "Eval : Epoch : 1 - epoch_val_acc: 0.4652\n",
      "\n",
      "best_acc=0.4652\n",
      "\n"
     ]
    },
    {
     "name": "stderr",
     "output_type": "stream",
     "text": [
      "100%|██████████| 7/7 [00:00<00:00, 32.56it/s]\n",
      "100%|██████████| 7/7 [00:00<00:00, 32.01it/s]\n",
      "100%|██████████| 7/7 [00:00<00:00, 33.66it/s]\n",
      "100%|██████████| 7/7 [00:00<00:00, 32.29it/s]\n",
      "100%|██████████| 7/7 [00:00<00:00, 33.55it/s]\n",
      "100%|██████████| 7/7 [00:00<00:00, 32.68it/s]\n",
      "100%|██████████| 7/7 [00:00<00:00, 32.51it/s]\n",
      "100%|██████████| 7/7 [00:00<00:00, 30.11it/s]\n",
      "100%|██████████| 7/7 [00:00<00:00, 31.16it/s]\n",
      "100%|██████████| 7/7 [00:00<00:00, 29.96it/s]\n"
     ]
    },
    {
     "name": "stdout",
     "output_type": "stream",
     "text": [
      "Eval : Epoch : 2 - epoch_val_acc: 0.6304\n",
      "\n",
      "best_acc=0.6304\n",
      "\n"
     ]
    },
    {
     "name": "stderr",
     "output_type": "stream",
     "text": [
      "100%|██████████| 7/7 [00:00<00:00, 31.81it/s]\n",
      "100%|██████████| 7/7 [00:00<00:00, 31.44it/s]\n",
      "100%|██████████| 7/7 [00:00<00:00, 31.50it/s]\n",
      "100%|██████████| 7/7 [00:00<00:00, 31.39it/s]\n",
      "100%|██████████| 7/7 [00:00<00:00, 31.70it/s]\n",
      "100%|██████████| 7/7 [00:00<00:00, 32.35it/s]\n",
      "100%|██████████| 7/7 [00:00<00:00, 31.81it/s]\n",
      "100%|██████████| 7/7 [00:00<00:00, 31.80it/s]\n",
      "100%|██████████| 7/7 [00:00<00:00, 31.36it/s]\n",
      "100%|██████████| 7/7 [00:00<00:00, 30.34it/s]\n"
     ]
    },
    {
     "name": "stdout",
     "output_type": "stream",
     "text": [
      "Eval : Epoch : 3 - epoch_val_acc: 0.7043\n",
      "\n",
      "best_acc=0.7043\n",
      "\n"
     ]
    },
    {
     "name": "stderr",
     "output_type": "stream",
     "text": [
      "100%|██████████| 7/7 [00:00<00:00, 29.02it/s]\n",
      "100%|██████████| 7/7 [00:00<00:00, 33.61it/s]\n",
      "100%|██████████| 7/7 [00:00<00:00, 33.11it/s]\n",
      "100%|██████████| 7/7 [00:00<00:00, 32.35it/s]\n",
      "100%|██████████| 7/7 [00:00<00:00, 32.78it/s]\n",
      "100%|██████████| 7/7 [00:00<00:00, 31.74it/s]\n",
      "100%|██████████| 7/7 [00:00<00:00, 32.50it/s]\n",
      "100%|██████████| 7/7 [00:00<00:00, 32.26it/s]\n",
      "100%|██████████| 7/7 [00:00<00:00, 32.89it/s]\n",
      "100%|██████████| 7/7 [00:00<00:00, 32.36it/s]\n"
     ]
    },
    {
     "name": "stdout",
     "output_type": "stream",
     "text": [
      "Eval : Epoch : 4 - epoch_val_acc: 0.7130\n",
      "\n",
      "best_acc=0.7130\n",
      "\n"
     ]
    },
    {
     "name": "stderr",
     "output_type": "stream",
     "text": [
      "100%|██████████| 7/7 [00:00<00:00, 31.70it/s]\n",
      "100%|██████████| 7/7 [00:00<00:00, 32.75it/s]\n",
      "100%|██████████| 7/7 [00:00<00:00, 32.62it/s]\n",
      "100%|██████████| 7/7 [00:00<00:00, 33.25it/s]\n",
      "100%|██████████| 7/7 [00:00<00:00, 29.35it/s]\n",
      "100%|██████████| 7/7 [00:00<00:00, 31.27it/s]\n",
      "100%|██████████| 7/7 [00:00<00:00, 32.03it/s]\n",
      "100%|██████████| 7/7 [00:00<00:00, 33.06it/s]\n",
      "100%|██████████| 7/7 [00:00<00:00, 33.41it/s]\n",
      "100%|██████████| 7/7 [00:00<00:00, 33.16it/s]"
     ]
    },
    {
     "name": "stdout",
     "output_type": "stream",
     "text": [
      "Eval : Epoch : 5 - epoch_val_acc: 0.7609\n",
      "\n",
      "best_acc=0.7609\n",
      "\n"
     ]
    },
    {
     "name": "stderr",
     "output_type": "stream",
     "text": [
      "\n"
     ]
    }
   ],
   "source": [
    "###============================ Train model ============================###\n",
    "for iter in range(0, training_epochs):\n",
    "    epoch_val_acc = 0\n",
    "\n",
    "    for kfold in range(kfolds):\n",
    "        train_idx = train_indices.get(kfold)\n",
    "        eval_idx = eval_indices.get(kfold)\n",
    "        # print(f'epoch {str(iter)}, Fold {str(kfold+1)}\\n')\n",
    "        x_train, x_eval = loaddata.split_xdata(X_train, train_idx, eval_idx)\n",
    "        y_train, y_eval = loaddata.split_ydata(Y_train, train_idx, eval_idx)\n",
    "\n",
    "        train_data = loaddata.BCICDataLoader(x_train, y_train, batch_size=batch_size)\n",
    "\n",
    "        running_loss = 0\n",
    "        running_accuracy = 0\n",
    "\n",
    "        # create a minibatch\n",
    "        eegnet.train()\n",
    "        for inputs, target in tqdm(train_data):\n",
    "            inputs = inputs.to(device).requires_grad_() # ([batch_size, chans, samples])\n",
    "            target = target.to(device)\n",
    "\n",
    "            output = eegnet(inputs)\n",
    "\n",
    "            # update the weights\n",
    "            loss = criterion(output, target)\n",
    "\n",
    "            optimizer.zero_grad()\n",
    "            loss.backward()\n",
    "            optimizer.step()\n",
    "\n",
    "            acc = (output.argmax(dim=1) == target).float().mean()\n",
    "            running_accuracy += acc / len(train_data)\n",
    "            running_loss += loss.detach().item() / len(train_data)\n",
    "\n",
    "        # print(f\"Train : Epoch : {iter} - kfold : {kfold+1} - acc: {running_accuracy:.4f} - loss : {running_loss:.4f}\\n\")\n",
    "\n",
    "        # validation\n",
    "        eegnet.eval()\n",
    "        inputs = x_eval.to(device).requires_grad_()\n",
    "        val_probs = eegnet(inputs)\n",
    "        val_acc = (val_probs.argmax(dim=1) == y_eval.to(device)).float().mean()\n",
    "        # print(f\"Eval : Epoch : {iter} - kfold : {kfold+1} - acc: {val_acc:.4f}\\n\")\n",
    "        epoch_val_acc += val_acc\n",
    "\n",
    "    epoch_val_acc = epoch_val_acc/kfolds\n",
    "    print(f\"Eval : Epoch : {iter+1} - epoch_val_acc: {epoch_val_acc:.4f}\\n\")\n",
    "\n",
    "    if epoch_val_acc > best_acc:\n",
    "        torch.save({\n",
    "            'model_state_dict': eegnet.state_dict(),\n",
    "            'optimizer_state_dict': optimizer.state_dict(),\n",
    "        }, filename)\n",
    "        best_acc = epoch_val_acc\n",
    "    print(f\"best_acc={best_acc:.4f}\\n\")"
   ]
  },
  {
   "cell_type": "code",
   "execution_count": 44,
   "metadata": {},
   "outputs": [
    {
     "name": "stdout",
     "output_type": "stream",
     "text": [
      "Classification accuracy: 0.793103 \n"
     ]
    }
   ],
   "source": [
    "###============================ Test model ============================###\n",
    "X_test = torch.from_numpy(X_test).to(device).to(torch.float32).requires_grad_()\n",
    "Y_test = torch.from_numpy(Y_test).to(device)\n",
    "\n",
    "checkpoint = torch.load(filename)\n",
    "eegnet.load_state_dict(checkpoint['model_state_dict'])\n",
    "optimizer.load_state_dict((checkpoint['optimizer_state_dict']))\n",
    "eegnet.eval()\n",
    "probs = eegnet(X_test)\n",
    "acc = (probs.argmax(dim=1) == Y_test).float().mean()\n",
    "print(\"Classification accuracy: %f \" % (acc))"
   ]
  },
  {
   "cell_type": "code",
   "execution_count": 45,
   "metadata": {},
   "outputs": [
    {
     "data": {
      "text/plain": [
       "Text(0.5, 1.0, 'Confusion Matrix')"
      ]
     },
     "execution_count": 45,
     "metadata": {},
     "output_type": "execute_result"
    },
    {
     "data": {
      "image/png": "[encoded data removed]",
      "text/plain": [
       "<Figure size 640x480 with 2 Axes>"
      ]
     },
     "metadata": {},
     "output_type": "display_data"
    }
   ],
   "source": [
    "###============================ plot ============================###\n",
    "import matplotlib.pyplot as plt\n",
    "from sklearn.metrics import confusion_matrix\n",
    "from sklearn.metrics import ConfusionMatrixDisplay\n",
    "ConfusionMatrixDisplay.from_predictions(Y_test.cpu().numpy().tolist(), \n",
    "                                        probs.argmax(dim=1).cpu().numpy().tolist(), \n",
    "                                        display_labels=[\"left\", \"right\", \"foot\", \"tongue\"], \n",
    "                                        cmap=plt.cm.Reds, \n",
    "                                        colorbar=True)\n",
    "plt.title(\"Confusion Matrix\")"
   ]
  }
 ],
 "metadata": {
  "kernelspec": {
   "display_name": "Python 3.7.13 ('pytorch_env')",
   "language": "python",
   "name": "python3"
  },
  "language_info": {
   "codemirror_mode": {
    "name": "ipython",
    "version": 3
   },
   "file_extension": ".py",
   "mimetype": "text/x-python",
   "name": "python",
   "nbconvert_exporter": "python",
   "pygments_lexer": "ipython3",
   "version": "3.7.13"
  },
  "orig_nbformat": 4,
  "vscode": {
   "interpreter": {
    "hash": "1430a93da5d83533894d453237c5709323ba9929f781aaee31a933aa40e9a862"
   }
  }
 },
 "nbformat": 4,
 "nbformat_minor": 2
}
